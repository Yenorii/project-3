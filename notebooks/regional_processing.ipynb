{
 "cells": [
  {
   "cell_type": "code",
   "execution_count": 1,
   "metadata": {},
   "outputs": [
    {
     "name": "stderr",
     "output_type": "stream",
     "text": [
      "/var/folders/cz/_pyz_5qn69155q4_bc51whp00000gn/T/ipykernel_91418/3869094184.py:18: DtypeWarning: Columns (40,42) have mixed types. Specify dtype option on import or set low_memory=False.\n",
      "  df_2019 = clean_dataframe(pd.read_csv('../data/accident2019.csv', encoding='ISO-8859-1'))\n"
     ]
    }
   ],
   "source": [
    "# Importing modules\n",
    "import pandas as pd\n",
    "import sqlite3\n",
    "\n",
    "# Cleaning the DataFrame\n",
    "def clean_dataframe(dataframe):\n",
    "    columnstoremove = ['ST_CASE', 'COUNTY', 'CITY', 'CITYNAME', 'DAYNAME', \n",
    "                       'HOURNAME', 'MINUTENAME', 'TWAY_ID2', 'MILEPTNAME', \n",
    "                       'NHSNAME', 'SP_JURNAME', 'RELJCT1', 'RELJCT1NAME', \n",
    "                       'RELJCT2', 'RELJCT2NAME', 'ARR_HOURNAME', 'ARR_MINNAME', \n",
    "                       'LATITUDENAME', 'LONGITUDNAME']\n",
    "    return dataframe.drop(columnstoremove, axis=1)\n",
    "pd.set_option('display.max_columns', None)\n",
    "\n",
    "# Loading and cleaning CSVs\n",
    "df_2021 = clean_dataframe(pd.read_csv('../data/accident2021.csv', encoding='ISO-8859-1'))\n",
    "df_2020 = clean_dataframe(pd.read_csv('../data/accident2020.csv', encoding='ISO-8859-1'))\n",
    "df_2019 = clean_dataframe(pd.read_csv('../data/accident2019.csv', encoding='ISO-8859-1'))\n",
    "\n",
    "# Concatenating the dataframes\n",
    "all_years_df = pd.concat([df_2021, df_2020, df_2019])\n",
    "\n",
    "# Connecting to the SQLite database\n",
    "conn = sqlite3.connect('../data/accident_database.db')\n",
    "all_years_df.to_sql('accidents', conn, if_exists='replace', index=False)\n",
    "\n",
    "# Closing connection\n",
    "conn.close()"
   ]
  }
 ],
 "metadata": {
  "kernelspec": {
   "display_name": "mydev",
   "language": "python",
   "name": "python3"
  },
  "language_info": {
   "codemirror_mode": {
    "name": "ipython",
    "version": 3
   },
   "file_extension": ".py",
   "mimetype": "text/x-python",
   "name": "python",
   "nbconvert_exporter": "python",
   "pygments_lexer": "ipython3",
   "version": "3.11.5"
  }
 },
 "nbformat": 4,
 "nbformat_minor": 5
}
