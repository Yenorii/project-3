{
 "cells": [
  {
   "cell_type": "code",
   "execution_count": 1,
   "id": "433ece33",
   "metadata": {},
   "outputs": [
    {
     "name": "stdout",
     "output_type": "stream",
     "text": [
      "   REGION  URBANICITY  PEDS  PERNOTMVIT  VE_TOTAL  VE_FORMS  PVH_INVL  \\\n",
      "0       3           1     0           0         1         1         0   \n",
      "1       4           2     0           0         2         1         1   \n",
      "2       3           2     0           0         1         1         0   \n",
      "3       3           1     0           0         3         3         0   \n",
      "4       1           2     0           0         1         1         0   \n",
      "\n",
      "   PERMVIT  MONTH  DAY_WEEK  ...  RELJCT1  RELJCT2  TYP_INT  REL_ROAD  \\\n",
      "0        1      1         6  ...        1       19        1         4   \n",
      "1        1      1         6  ...        0        1        1         7   \n",
      "2        1      1         7  ...        0        1        1         4   \n",
      "3        3      1         6  ...        0        1        1         4   \n",
      "4        1      1         7  ...        0        1        1         4   \n",
      "\n",
      "   WRK_ZONE  LGT_COND  WEATHER  MAX_SEV  NUM_INJ  ALCOHOL  \n",
      "0         0         3        1        0        0        2  \n",
      "1         0         3       10        0        0        2  \n",
      "2         0         1        5        0        0        2  \n",
      "3         0         1        2        0        0        9  \n",
      "4         0         1        4        2        1        2  \n",
      "\n",
      "[5 rows x 28 columns]\n"
     ]
    }
   ],
   "source": [
    "# Importing modules\n",
    "import pandas as pd\n",
    "import os\n",
    "import sqlite3\n",
    "\n",
    "# Load CSV data into a DataFrame\n",
    "df = pd.read_csv('../data/accident.csv')\n",
    "\n",
    "# Cleaning up the csv\n",
    "columns_to_remove = ['PSU', 'PSU_VAR', 'PSUSTRAT', 'URBANICITYNAME', 'REGIONNAME', \n",
    "                     'HARM_EVNAME', 'MAN_COLLNAME', 'SCH_BUS', 'INT_HWY', \n",
    "                     'SCH_BUSNAME', 'INT_HWYNAME', 'CASENUM', 'MAXSEV_IMNAME', \n",
    "                     'NO_INJ_IMNAME', 'ALCHL_IMNAME', 'STRATUMNAME', 'PJ', 'WEIGHT', \n",
    "                     'MAX_SEVNAME', 'ALCOHOLNAME', 'STRATUM', 'MAXSEV_IM', 'WEATHR_IM', \n",
    "                     'WEATHERNAME','MONTHNAME', 'WEATHR_IMNAME','LGT_CONDNAME', \n",
    "                     'LGTCON_IM', 'LGTCON_IMNAME', 'WRK_ZONENAME', 'NUM_INJNAME', \n",
    "                     'NO_INJ_IM', 'REL_ROADNAME', 'TYP_INTNAME', 'ALCHL_IM', \n",
    "                     'RELJCT2_IMNAME', 'RELJCT2NAME', 'RELJCT2_IM', 'RELJCT1_IMNAME', \n",
    "                     'RELJCT1_IM', 'RELJCT1NAME', 'MANCOL_IMNAME', 'DAY_WEEKNAME', \n",
    "                     'WKDY_IMNAME', 'YEARNAME', 'HOURNAME', 'HOUR_IMNAME', \n",
    "                     'MINUTENAME', 'MINUTE_IM', 'MINUTE_IMNAME', 'EVENT1_IM', 'EVENT1_IMNAME']\n",
    "df.drop(columns_to_remove, axis=1, inplace=True)\n",
    "\n",
    "# Connect to the SQLite database\n",
    "conn = sqlite3.connect('../data/accident_database.db')\n",
    "cursor = conn.cursor()\n",
    "\n",
    "# Write the data to a SQLite table\n",
    "df.to_sql('accidents', conn, if_exists='replace', index=False)\n",
    "\n",
    "# Retrieve and verify data\n",
    "df_retrieved = pd.read_sql_query(\"SELECT * FROM accidents LIMIT 5\", conn)\n",
    "print(df_retrieved.head())\n",
    "\n",
    "# Close the connection\n",
    "conn.close()\n"
   ]
  }
 ],
 "metadata": {
  "kernelspec": {
   "display_name": "mydev",
   "language": "python",
   "name": "python3"
  },
  "language_info": {
   "codemirror_mode": {
    "name": "ipython",
    "version": 3
   },
   "file_extension": ".py",
   "mimetype": "text/x-python",
   "name": "python",
   "nbconvert_exporter": "python",
   "pygments_lexer": "ipython3",
   "version": "3.11.5"
  }
 },
 "nbformat": 4,
 "nbformat_minor": 5
}
