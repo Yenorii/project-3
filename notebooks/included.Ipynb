{
 "cells": [
  {
   "cell_type": "code",
   "execution_count": 9,
   "metadata": {},
   "outputs": [],
   "source": [
    "# Importing modules\n",
    "import pandas as pd\n",
    "import sqlite3"
   ]
  },
  {
   "cell_type": "code",
   "execution_count": 10,
   "metadata": {},
   "outputs": [],
   "source": [
    "state_to_region = {\n",
    "    'Maryland': 'South', 'Delaware': 'South', 'District of Columbia': 'South', 'West Virginia': 'South', 'Virginia': 'South',\n",
    "    'Kentucky': 'South', 'Tennessee': 'South', 'North Carolina': 'South', 'South Carolina': 'South', 'Georgia': 'South',\n",
    "    'Florida': 'South', 'Alabama': 'South', 'Mississippi': 'South', 'Louisiana': 'South', 'Arkansas': 'South',\n",
    "    'Oklahoma': 'South', 'Texas': 'South', 'Montana': 'West', 'Idaho': 'West', 'Washington': 'West',\n",
    "    'Oregon': 'West', 'California': 'West', 'Nevada': 'West', 'New Mexico': 'West', 'Arizona': 'West',\n",
    "    'Utah': 'West', 'Colorado': 'West', 'Wyoming': 'West', 'Alaska': 'West', 'Hawaii': 'West',\n",
    "    'Pennsylvania': 'Northeast', 'New Jersey': 'Northeast', 'New York': 'Northeast', 'New Hampshire': 'Northeast',\n",
    "    'Vermont': 'Northeast', 'Rhode Island': 'Northeast', 'Massachusetts': 'Northeast', 'Maine': 'Northeast',\n",
    "    'Connecticut': 'Northeast', 'Ohio': 'Midwest', 'Indiana': 'Midwest', 'Illinois': 'Midwest',\n",
    "    'Michigan': 'Midwest', 'Wisconsin': 'Midwest', 'Minnesota': 'Midwest', 'North Dakota': 'Midwest',\n",
    "    'South Dakota': 'Midwest', 'Nebraska': 'Midwest', 'Iowa': 'Midwest', 'Missouri': 'Midwest', 'Kansas': 'Midwest'\n",
    "}"
   ]
  },
  {
   "cell_type": "code",
   "execution_count": 11,
   "metadata": {},
   "outputs": [],
   "source": [
    "# Cleaning the DataFrame\n",
    "def clean_dataframe(dataframe):\n",
    "    columnstoremove = ['ST_CASE', 'COUNTY', 'CITY', 'CITYNAME', 'DAYNAME', \n",
    "                       'HOURNAME', 'MINUTENAME', 'TWAY_ID2', 'MILEPTNAME', \n",
    "                       'NHSNAME', 'SP_JURNAME', 'RELJCT1', 'RELJCT1NAME', \n",
    "                       'RELJCT2', 'RELJCT2NAME', 'ARR_HOURNAME', 'ARR_MINNAME', \n",
    "                       'LATITUDENAME', 'LONGITUDNAME']\n",
    "    \n",
    "    cleaned_df = dataframe.drop(columnstoremove, axis=1)\n",
    "\n",
    "    # Add REGION and REGIONNAME columns\n",
    "    cleaned_df['REGION'] = cleaned_df['STATENAME'].map(state_to_region)\n",
    "    cleaned_df['REGIONNAME'] = cleaned_df['REGION']\n",
    "    \n",
    "    return cleaned_df"
   ]
  },
  {
   "cell_type": "code",
   "execution_count": 12,
   "metadata": {},
   "outputs": [
    {
     "name": "stderr",
     "output_type": "stream",
     "text": [
      "C:\\Users\\johan\\AppData\\Local\\Temp\\ipykernel_24028\\622424428.py:7: DtypeWarning: Columns (40,42) have mixed types. Specify dtype option on import or set low_memory=False.\n",
      "  df_2019 = clean_dataframe(pd.read_csv('../data/accident2019.csv', encoding='ISO-8859-1'))\n"
     ]
    }
   ],
   "source": [
    "# Show all columns\n",
    "pd.set_option('display.max_columns', None)\n",
    "\n",
    "# Loading and cleaning CSVs\n",
    "df_2021 = clean_dataframe(pd.read_csv('../data/accident2021.csv', encoding='ISO-8859-1'))\n",
    "df_2020 = clean_dataframe(pd.read_csv('../data/accident2020.csv', encoding='ISO-8859-1'))\n",
    "df_2019 = clean_dataframe(pd.read_csv('../data/accident2019.csv', encoding='ISO-8859-1'))"
   ]
  },
  {
   "cell_type": "code",
   "execution_count": 13,
   "metadata": {},
   "outputs": [],
   "source": [
    "# Concatenating the dataframes with ignore_index=True\n",
    "all_years_df = pd.concat([df_2021, df_2020, df_2019])\n",
    "all_years_df = all_years_df.rename(columns={'ROUTENAME': 'ROADTYPE',\n",
    "                               'RUR_URBNAME': 'POPULATION',\n",
    "                               'HARM_EVNAME': 'ACCIDENTTYPE',\n",
    "                               'TYP_INTNAME': 'INTERSECTIONTYPE',\n",
    "                               'REL_ROADNAME': 'LOCATION',\n",
    "                               'LGT_CONDNAME': 'LIGHTING',\n",
    "                               'WEATHERNAME': 'WEATHERTYPE',\n",
    "                               'NOT_HOURNAME': 'TIME'})"
   ]
  },
  {
   "cell_type": "code",
   "execution_count": 20,
   "metadata": {},
   "outputs": [
    {
     "name": "stdout",
     "output_type": "stream",
     "text": [
      "['Motor Vehicle In-Transport' 'Concrete Traffic Barrier' 'Pedestrian'\n",
      " 'Ditch' 'Rollover/Overturn' 'Parked Motor Vehicle' 'Mail Box' 'Culvert'\n",
      " 'Fence' 'Tree (Standing Only)' 'Guardrail Face'\n",
      " 'Utility Pole/Light Support' 'Traffic Sign Support' 'Ground'\n",
      " 'Non-Motorist on Personal Conveyance' 'Embankment'\n",
      " 'Other Object (not fixed)' 'Guardrail End' 'Wall' 'Other Fixed Object'\n",
      " 'Curb' 'Boulder' 'Building' 'Railway Vehicle'\n",
      " 'Bridge Rail (Includes parapet)' 'Bridge Pier or Support' 'Pedalcyclist'\n",
      " 'Cable Barrier' 'Live Animal' 'Fell/Jumped from Vehicle'\n",
      " 'Motor Vehicle In-Transport Strikes or is Struck by Cargo, Persons or Objects Set-in-Motion from/by Another Motor Vehicle In Transport'\n",
      " 'Shrubbery' 'Working Motor Vehicle' 'Reported as Unknown'\n",
      " 'Road Vehicle on Rails' 'Fire Hydrant' 'Impact Attenuator/Crash Cushion'\n",
      " 'Post, Pole or Other Supports' 'Bridge Overhead Structure'\n",
      " 'Other Traffic Barrier' 'Traffic Signal Support' 'Fire/Explosion'\n",
      " 'Unknown Fixed Object' 'Other Non-Collision'\n",
      " 'Cargo/Equipment Loss, Shift, or Damage [harmful]'\n",
      " 'Unknown Object Not Fixed' 'Thrown or Falling Object'\n",
      " 'Immersion or Partial Immersion'\n",
      " 'Pavement Surface Irregularity (Ruts, Potholes, Grates, etc.)'\n",
      " 'Injured In Vehicle (Non-Collision)' 'Snow Bank'\n",
      " 'Ridden Animal or Animal Drawn Conveyance'\n",
      " 'Object That Had Fallen From Motor Vehicle In-Transport'\n",
      " 'Harmful Event, Details Not Reported'\n",
      " 'Motor Vehicle in Motion Outside the Trafficway'\n",
      " 'Jackknife (harmful to this vehicle)']\n"
     ]
    }
   ],
   "source": [
    "all_years_df = df['ACCIDENTTYPE'].unique()\n",
    "print(all_years_df)"
   ]
  },
  {
   "cell_type": "code",
   "execution_count": 14,
   "metadata": {},
   "outputs": [
    {
     "data": {
      "text/plain": [
       "108930"
      ]
     },
     "execution_count": 14,
     "metadata": {},
     "output_type": "execute_result"
    }
   ],
   "source": [
    "# Connecting to the SQLite database\n",
    "conn = sqlite3.connect('../data/accident_database.db')\n",
    "all_years_df.to_sql('accidents', conn, if_exists='replace', index=False)"
   ]
  },
  {
   "cell_type": "code",
   "execution_count": 15,
   "metadata": {},
   "outputs": [],
   "source": [
    "# Query to select data needed for map\n",
    "query = \"SELECT LATITUDE, LONGITUD, STATE, REGION, YEAR, ROADTYPE, POPULATION, ACCIDENTTYPE, INTERSECTIONTYPE, LOCATION, LIGHTING, WEATHERTYPE, TIME FROM accidents\"\n",
    "df = pd.read_sql_query(query, conn)"
   ]
  },
  {
   "cell_type": "code",
   "execution_count": 16,
   "metadata": {},
   "outputs": [],
   "source": [
    "# Exporting to JSON\n",
    "df.to_json('../data/mapdata.json', orient='records')\n",
    "\n",
    "# Closing connection\n",
    "conn.close()"
   ]
  }
 ],
 "metadata": {
  "kernelspec": {
   "display_name": "base",
   "language": "python",
   "name": "python3"
  },
  "language_info": {
   "codemirror_mode": {
    "name": "ipython",
    "version": 3
   },
   "file_extension": ".py",
   "mimetype": "text/x-python",
   "name": "python",
   "nbconvert_exporter": "python",
   "pygments_lexer": "ipython3",
   "version": "3.10.13"
  }
 },
 "nbformat": 4,
 "nbformat_minor": 2
}
